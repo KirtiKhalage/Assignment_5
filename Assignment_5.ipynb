{
 "cells": [
  {
   "cell_type": "markdown",
   "id": "c152a770",
   "metadata": {},
   "source": [
    "# Challenge 1: Square Numbers and Return Their Sum"
   ]
  },
  {
   "cell_type": "code",
   "execution_count": 3,
   "id": "be4960b9",
   "metadata": {},
   "outputs": [
    {
     "name": "stdout",
     "output_type": "stream",
     "text": [
      "35\n"
     ]
    }
   ],
   "source": [
    "class Point:\n",
    "    def __init__(self,x,y,z):\n",
    "        self.x = x\n",
    "        self.y = y\n",
    "        self.z = z\n",
    "    def sqSum(self):\n",
    "        return self.x**2+self.y**2+self.z**2\n",
    "t=Point(1,3,5)\n",
    "print(t.sqSum())"
   ]
  },
  {
   "cell_type": "markdown",
   "id": "5360221b",
   "metadata": {},
   "source": [
    "# Challenge 2: Implement a Calculator Class"
   ]
  },
  {
   "cell_type": "code",
   "execution_count": 4,
   "id": "7e5c1e56",
   "metadata": {},
   "outputs": [
    {
     "name": "stdout",
     "output_type": "stream",
     "text": [
      "104\n",
      "84\n",
      "940\n",
      "9.4\n"
     ]
    }
   ],
   "source": [
    "class Calculator:\n",
    "\n",
    "    def __init__(self,num1,num2):\n",
    "        self.num1=num1\n",
    "        self.num2=num2\n",
    "    def add(self):\n",
    "        return self.num1+self.num2\n",
    "    def subtract(self):\n",
    "        return self.num2-self.num1\n",
    "    def multiply(self):\n",
    "        return self.num1*self.num2\n",
    "    def divide(self):\n",
    "        return self.num2/self.num1\n",
    "obj=Calculator(10,94)\n",
    "print(obj.add()) \n",
    "print(obj.subtract())\n",
    "print(obj.multiply())\n",
    "print(obj.divide())"
   ]
  },
  {
   "cell_type": "markdown",
   "id": "543e7285",
   "metadata": {},
   "source": [
    "# Challenge 3: Implement the Complete Student Class"
   ]
  },
  {
   "cell_type": "code",
   "execution_count": 3,
   "id": "18330423",
   "metadata": {},
   "outputs": [
    {
     "name": "stdout",
     "output_type": "stream",
     "text": [
      "Kirti\n",
      "10\n"
     ]
    }
   ],
   "source": [
    "class Student:\n",
    "    def setName(self,x):\n",
    "        self.__name = x\n",
    "    def getName(self):\n",
    "        return self.__name\n",
    "    def setRollNumber(self,y):\n",
    "        self.__rollNumber = y\n",
    "    def getRollNumber(self):\n",
    "        return self.__rollNumber\n",
    "t= Student()\n",
    "t.setName(\"Kirti\")\n",
    "print(t.getName())\n",
    "t.setRollNumber(10)\n",
    "print(t.getRollNumber())\n"
   ]
  },
  {
   "cell_type": "markdown",
   "id": "26c0b2e1",
   "metadata": {},
   "source": [
    "# Challenge 4: Implement a Banking Account"
   ]
  },
  {
   "cell_type": "code",
   "execution_count": 16,
   "id": "2cc0aa26",
   "metadata": {},
   "outputs": [
    {
     "name": "stdout",
     "output_type": "stream",
     "text": [
      "Ashish\n",
      "5000\n",
      "Ashish\n",
      "5000\n",
      "5\n"
     ]
    }
   ],
   "source": [
    "class Account:\n",
    "\n",
    "    def __init__(self,title = None,balance=0):\n",
    "        self.title = title\n",
    "        self.balance = balance\n",
    "        \n",
    "class SavingsAccount(Account):\n",
    "    \n",
    "    def __init__(self,title=None,balance=0,interestRate=0):\n",
    "        super().__init__(title,balance)\n",
    "        self.interestRate = interestRate\n",
    "obj=Account(\"Ashish\",5000)\n",
    "print(obj.title)\n",
    "print(obj.balance)\n",
    "\n",
    "objs=SavingsAccount(\"Ashish\",5000,5)\n",
    "print(objs.title)\n",
    "print(objs.balance)\n",
    "print(objs.interestRate)\n",
    "\n"
   ]
  },
  {
   "cell_type": "markdown",
   "id": "4a8f4db6",
   "metadata": {},
   "source": [
    "# Challenge 5: Handling a Bank Account"
   ]
  },
  {
   "cell_type": "code",
   "execution_count": 9,
   "id": "15e14d24",
   "metadata": {},
   "outputs": [
    {
     "name": "stdout",
     "output_type": "stream",
     "text": [
      "1500\n",
      "2500\n",
      "2000\n",
      "100\n"
     ]
    }
   ],
   "source": [
    "class Account:\n",
    "    def __init__(self, title=None, balance=0):\n",
    "        self.title = title\n",
    "        self.balance = balance\n",
    "        \n",
    "    def withdrawal(self, amount):\n",
    "        self.amount=amount\n",
    "        return self.balance-self.amount\n",
    "\n",
    "    def deposit(self, amount):\n",
    "        self.amount = amount\n",
    "        return self.balance + self.amount\n",
    "        \n",
    "    def getBalance(self):\n",
    "        return self.balance     \n",
    "\n",
    "class SavingsAccount(Account):\n",
    "    def __init__(self, title=None, balance=0, interestRate=0):\n",
    "            super().__init__(title, balance)\n",
    "            self.interestRate = interestRate\n",
    "    \n",
    "    def interestAmount(self):\n",
    "        return self.interestRate*self.balance//100\n",
    "#code to test - do not edit this\n",
    "\n",
    "demo1 = SavingsAccount(\"Ashish\", 2000, 5)   # initializing a SavingsAccount object\n",
    "print(demo1.withdrawal(500))\n",
    "print(demo1.deposit(500))\n",
    "print(demo1.getBalance())\n",
    "print(demo1.interestAmount())"
   ]
  }
 ],
 "metadata": {
  "kernelspec": {
   "display_name": "Python 3 (ipykernel)",
   "language": "python",
   "name": "python3"
  },
  "language_info": {
   "codemirror_mode": {
    "name": "ipython",
    "version": 3
   },
   "file_extension": ".py",
   "mimetype": "text/x-python",
   "name": "python",
   "nbconvert_exporter": "python",
   "pygments_lexer": "ipython3",
   "version": "3.9.13"
  }
 },
 "nbformat": 4,
 "nbformat_minor": 5
}
